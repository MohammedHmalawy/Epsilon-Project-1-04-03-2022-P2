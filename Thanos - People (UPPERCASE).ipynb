{
 "cells": [
  {
   "cell_type": "markdown",
   "metadata": {},
   "source": [
    "<img src=\"thanos.jpg\">"
   ]
  },
  {
   "cell_type": "markdown",
   "metadata": {},
   "source": [
    "# Project 1 - Thanos"
   ]
  },
  {
   "cell_type": "markdown",
   "metadata": {},
   "source": [
    "### 1. Import libraries (os, random, time)"
   ]
  },
  {
   "cell_type": "code",
   "execution_count": 14,
   "metadata": {},
   "outputs": [],
   "source": [
    "import os\n",
    "import random\n",
    "import time"
   ]
  },
  {
   "cell_type": "markdown",
   "metadata": {},
   "source": [
    "### 2. Create function to read all the files (people) from a directory. The function takes the location path as input and returns a list with the files in the folder"
   ]
  },
  {
   "cell_type": "code",
   "execution_count": 15,
   "metadata": {},
   "outputs": [],
   "source": [
    "def get_universe_people(path):\n",
    "    people = os.listdir('Thanos - People (UPPERCASE)')\n",
    "    return people"
   ]
  },
  {
   "cell_type": "markdown",
   "metadata": {},
   "source": [
    "### 3. Create a list called 'universe' that contains our people"
   ]
  },
  {
   "cell_type": "code",
   "execution_count": 16,
   "metadata": {},
   "outputs": [
    {
     "data": {
      "text/plain": [
       "['Adam Sandler.jpg',\n",
       " 'Angelina Julie.png',\n",
       " 'Ariana Grande.jpeg',\n",
       " 'Ben Affleck.jpg',\n",
       " 'Ben Stiller.jpg',\n",
       " 'Bill Gates.jpg',\n",
       " 'Brad Pitt.jpg',\n",
       " 'Britney Spears.jpg',\n",
       " 'Bruce Lee.jpg',\n",
       " 'Cameron Diaz.jpg',\n",
       " 'Dwayne Johnson.jpg',\n",
       " 'Elon Musk.jpg',\n",
       " 'Elton John.jpg',\n",
       " 'Jack Black.jpg',\n",
       " 'Jackie Chan.jpg',\n",
       " 'Jamie Foxx.jpg',\n",
       " 'Jason Segel.jpg',\n",
       " 'Jason Statham.jpg',\n",
       " 'Jeff Bezos.jpg',\n",
       " 'Jennifer Aniston.jpg',\n",
       " 'Jennifer Lopez.jpg',\n",
       " 'Jerry Seinfeld.jpg',\n",
       " 'Jim Carrey.jpg',\n",
       " 'John Cena.jpg',\n",
       " 'Johnny Depp.jpg',\n",
       " 'Josh Radnor.jpg',\n",
       " 'Julia Roberts.jpg',\n",
       " 'Justin Timberlake.jpg',\n",
       " 'Kate Upton.jpg',\n",
       " 'Keanu Reeves.jpg',\n",
       " 'Kevin Hart.jpg',\n",
       " 'Madonna.jpg',\n",
       " 'Mark Ruffalo.jpg',\n",
       " 'Mark Zuckerberg.jpg',\n",
       " 'Matt Damon.jpg',\n",
       " 'Michael Jackson.jpg',\n",
       " 'Michael Jordan.jpg',\n",
       " 'Mindy Kaling.jpg',\n",
       " 'Miranda Cosgrove.jpg',\n",
       " 'Neil Patrick Harris.jpg',\n",
       " 'Nick Jonas.jpg',\n",
       " 'Nicole Kidman.jpg',\n",
       " 'Paul Rudd.jpg',\n",
       " 'Robin Williams.jpg',\n",
       " 'Steve Carell.jpg',\n",
       " 'Steve Jobs.jpg',\n",
       " 'Sylvester Stallone.jpg',\n",
       " 'Tom Cruise.jpg',\n",
       " 'Will Ferrell.jpg',\n",
       " 'Will Smith.jpg']"
      ]
     },
     "execution_count": 16,
     "metadata": {},
     "output_type": "execute_result"
    }
   ],
   "source": [
    "universe = get_universe_people('Thanos - People (UPPERCASE)')\n",
    "universe"
   ]
  },
  {
   "cell_type": "markdown",
   "metadata": {},
   "source": [
    "### 4. Check how many people there are in the universe (length of the list)"
   ]
  },
  {
   "cell_type": "code",
   "execution_count": 17,
   "metadata": {},
   "outputs": [
    {
     "data": {
      "text/plain": [
       "50"
      ]
     },
     "execution_count": 17,
     "metadata": {},
     "output_type": "execute_result"
    }
   ],
   "source": [
    "len(universe)"
   ]
  },
  {
   "cell_type": "code",
   "execution_count": null,
   "metadata": {},
   "outputs": [],
   "source": []
  },
  {
   "cell_type": "markdown",
   "metadata": {},
   "source": [
    "### 5. When Thanos snaps his hands, he kills half the population. Create a function 'snap' to simulate thanos snapping, deleting half of the images in the universe folder <br> The images should be selected from the list by random. <br> People should be killed with a 1 second interval"
   ]
  },
  {
   "cell_type": "code",
   "execution_count": 18,
   "metadata": {},
   "outputs": [],
   "source": [
    "def snap(universe):\n",
    "    for i in universe:\n",
    "        os.rename('Thanos - People (UPPERCASE)/' + i,'Thanos - People (UPPERCASE)/' + i.upper())\n",
    "        print(f\"Person name: {i.upper()}\")\n",
    "        time.sleep(1)\n",
    "    print(\"Perfectly balanced, as all things should be\")"
   ]
  },
  {
   "cell_type": "code",
   "execution_count": 19,
   "metadata": {},
   "outputs": [
    {
     "name": "stdout",
     "output_type": "stream",
     "text": [
      "Person name: ADAM SANDLER.JPG\n",
      "Person name: ANGELINA JULIE.PNG\n",
      "Person name: ARIANA GRANDE.JPEG\n",
      "Person name: BEN AFFLECK.JPG\n",
      "Person name: BEN STILLER.JPG\n",
      "Person name: BILL GATES.JPG\n",
      "Person name: BRAD PITT.JPG\n",
      "Person name: BRITNEY SPEARS.JPG\n",
      "Person name: BRUCE LEE.JPG\n",
      "Person name: CAMERON DIAZ.JPG\n",
      "Person name: DWAYNE JOHNSON.JPG\n",
      "Person name: ELON MUSK.JPG\n",
      "Person name: ELTON JOHN.JPG\n",
      "Person name: JACK BLACK.JPG\n",
      "Person name: JACKIE CHAN.JPG\n",
      "Person name: JAMIE FOXX.JPG\n",
      "Person name: JASON SEGEL.JPG\n",
      "Person name: JASON STATHAM.JPG\n",
      "Person name: JEFF BEZOS.JPG\n",
      "Person name: JENNIFER ANISTON.JPG\n",
      "Person name: JENNIFER LOPEZ.JPG\n",
      "Person name: JERRY SEINFELD.JPG\n",
      "Person name: JIM CARREY.JPG\n",
      "Person name: JOHN CENA.JPG\n",
      "Person name: JOHNNY DEPP.JPG\n",
      "Person name: JOSH RADNOR.JPG\n",
      "Person name: JULIA ROBERTS.JPG\n",
      "Person name: JUSTIN TIMBERLAKE.JPG\n",
      "Person name: KATE UPTON.JPG\n",
      "Person name: KEANU REEVES.JPG\n",
      "Person name: KEVIN HART.JPG\n",
      "Person name: MADONNA.JPG\n",
      "Person name: MARK RUFFALO.JPG\n",
      "Person name: MARK ZUCKERBERG.JPG\n",
      "Person name: MATT DAMON.JPG\n",
      "Person name: MICHAEL JACKSON.JPG\n",
      "Person name: MICHAEL JORDAN.JPG\n",
      "Person name: MINDY KALING.JPG\n",
      "Person name: MIRANDA COSGROVE.JPG\n",
      "Person name: NEIL PATRICK HARRIS.JPG\n",
      "Person name: NICK JONAS.JPG\n",
      "Person name: NICOLE KIDMAN.JPG\n",
      "Person name: PAUL RUDD.JPG\n",
      "Person name: ROBIN WILLIAMS.JPG\n",
      "Person name: STEVE CARELL.JPG\n",
      "Person name: STEVE JOBS.JPG\n",
      "Person name: SYLVESTER STALLONE.JPG\n",
      "Person name: TOM CRUISE.JPG\n",
      "Person name: WILL FERRELL.JPG\n",
      "Person name: WILL SMITH.JPG\n",
      "Perfectly balanced, as all things should be\n"
     ]
    }
   ],
   "source": [
    "snap(universe)"
   ]
  },
  {
   "cell_type": "markdown",
   "metadata": {},
   "source": [
    "### 6. Check how the new universe looks"
   ]
  },
  {
   "cell_type": "code",
   "execution_count": 20,
   "metadata": {},
   "outputs": [
    {
     "data": {
      "text/plain": [
       "['ADAM SANDLER.JPG',\n",
       " 'ANGELINA JULIE.PNG',\n",
       " 'ARIANA GRANDE.JPEG',\n",
       " 'BEN AFFLECK.JPG',\n",
       " 'BEN STILLER.JPG',\n",
       " 'BILL GATES.JPG',\n",
       " 'BRAD PITT.JPG',\n",
       " 'BRITNEY SPEARS.JPG',\n",
       " 'BRUCE LEE.JPG',\n",
       " 'CAMERON DIAZ.JPG',\n",
       " 'DWAYNE JOHNSON.JPG',\n",
       " 'ELON MUSK.JPG',\n",
       " 'ELTON JOHN.JPG',\n",
       " 'JACK BLACK.JPG',\n",
       " 'JACKIE CHAN.JPG',\n",
       " 'JAMIE FOXX.JPG',\n",
       " 'JASON SEGEL.JPG',\n",
       " 'JASON STATHAM.JPG',\n",
       " 'JEFF BEZOS.JPG',\n",
       " 'JENNIFER ANISTON.JPG',\n",
       " 'JENNIFER LOPEZ.JPG',\n",
       " 'JERRY SEINFELD.JPG',\n",
       " 'JIM CARREY.JPG',\n",
       " 'JOHN CENA.JPG',\n",
       " 'JOHNNY DEPP.JPG',\n",
       " 'JOSH RADNOR.JPG',\n",
       " 'JULIA ROBERTS.JPG',\n",
       " 'JUSTIN TIMBERLAKE.JPG',\n",
       " 'KATE UPTON.JPG',\n",
       " 'KEANU REEVES.JPG',\n",
       " 'KEVIN HART.JPG',\n",
       " 'MADONNA.JPG',\n",
       " 'MARK RUFFALO.JPG',\n",
       " 'MARK ZUCKERBERG.JPG',\n",
       " 'MATT DAMON.JPG',\n",
       " 'MICHAEL JACKSON.JPG',\n",
       " 'MICHAEL JORDAN.JPG',\n",
       " 'MINDY KALING.JPG',\n",
       " 'MIRANDA COSGROVE.JPG',\n",
       " 'NEIL PATRICK HARRIS.JPG',\n",
       " 'NICK JONAS.JPG',\n",
       " 'NICOLE KIDMAN.JPG',\n",
       " 'PAUL RUDD.JPG',\n",
       " 'ROBIN WILLIAMS.JPG',\n",
       " 'STEVE CARELL.JPG',\n",
       " 'STEVE JOBS.JPG',\n",
       " 'SYLVESTER STALLONE.JPG',\n",
       " 'TOM CRUISE.JPG',\n",
       " 'WILL FERRELL.JPG',\n",
       " 'WILL SMITH.JPG']"
      ]
     },
     "execution_count": 20,
     "metadata": {},
     "output_type": "execute_result"
    }
   ],
   "source": [
    "new_universe = get_universe_people('Thanos - People (UPPERCASE)')\n",
    "new_universe"
   ]
  },
  {
   "cell_type": "code",
   "execution_count": 21,
   "metadata": {},
   "outputs": [
    {
     "data": {
      "text/plain": [
       "50"
      ]
     },
     "execution_count": 21,
     "metadata": {},
     "output_type": "execute_result"
    }
   ],
   "source": [
    "len(new_universe)"
   ]
  },
  {
   "cell_type": "code",
   "execution_count": null,
   "metadata": {},
   "outputs": [],
   "source": []
  },
  {
   "cell_type": "markdown",
   "metadata": {},
   "source": [
    "### Extra Excercises:\n",
    "\n",
    "- (Medium) Re-implement the Thanos project, but delete the people whose name starts with 'M' or 'N'\n",
    "- (Hard) Re-implement the Thanos project, but delete the people whose LAST name starts with 'C"
   ]
  },
  {
   "cell_type": "markdown",
   "metadata": {},
   "source": [
    "# Great Work!"
   ]
  }
 ],
 "metadata": {
  "kernelspec": {
   "display_name": "Python 3",
   "language": "python",
   "name": "python3"
  },
  "language_info": {
   "codemirror_mode": {
    "name": "ipython",
    "version": 3
   },
   "file_extension": ".py",
   "mimetype": "text/x-python",
   "name": "python",
   "nbconvert_exporter": "python",
   "pygments_lexer": "ipython3",
   "version": "3.9.7"
  }
 },
 "nbformat": 4,
 "nbformat_minor": 2
}
